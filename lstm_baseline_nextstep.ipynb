{
 "cells": [
  {
   "cell_type": "code",
   "execution_count": 78,
   "metadata": {
    "collapsed": false,
    "deletable": true,
    "editable": true
   },
   "outputs": [],
   "source": [
    "import numpy as np\n",
    "import pandas as pd\n",
    "import matplotlib.pyplot as plt\n",
    "import seaborn as sns\n",
    "%matplotlib inline\n",
    "\n",
    "import os\n",
    "os.environ['CUDA_VISIBLE_DEVICES'] = \"2\"\n",
    "\n",
    "import keras\n",
    "from keras.models import Sequential\n",
    "from keras.layers import LSTM, Dense, Dropout, TimeDistributed\n",
    "from keras.layers.normalization import BatchNormalization\n",
    "from tqdm import tqdm_notebook, tqdm\n",
    "from IPython.display import clear_output, display\n",
    "from keras import backend as K\n",
    "\n",
    "from sklearn.pipeline import Pipeline\n",
    "from sklearn.linear_model import LinearRegression\n",
    "from sklearn.cross_validation import cross_val_score, train_test_split\n",
    "from sklearn.feature_extraction.text import TfidfVectorizer\n",
    "from sklearn.preprocessing import StandardScaler, RobustScaler, Normalizer, MinMaxScaler\n",
    "from sklearn import manifold, decomposition, linear_model, ensemble, neighbors, cross_validation\n",
    "from sklearn.ensemble import ExtraTreesClassifier, RandomForestClassifier\n",
    "\n",
    "from scipy import stats\n",
    "from glob import glob\n",
    "from multiprocessing import Pool\n",
    "from sklearn.metrics import roc_auc_score as auc\n",
    "from sklearn.model_selection import StratifiedKFold\n",
    "import xgboost"
   ]
  },
  {
   "cell_type": "code",
   "execution_count": 79,
   "metadata": {
    "collapsed": true,
    "deletable": true,
    "editable": true
   },
   "outputs": [],
   "source": [
    "data = pd.read_csv('train_labels.csv')\n",
    "data['train'] = 1"
   ]
  },
  {
   "cell_type": "code",
   "execution_count": 80,
   "metadata": {
    "collapsed": false,
    "deletable": true,
    "editable": true,
    "scrolled": true
   },
   "outputs": [
    {
     "data": {
      "text/plain": [
       "(95999, 56)"
      ]
     },
     "execution_count": 80,
     "metadata": {},
     "output_type": "execute_result"
    }
   ],
   "source": [
    "Xshape = pd.read_csv('/mnt/kaspersky/data_kasp/train/0_train.csv').shape\n",
    "Xshape"
   ]
  },
  {
   "cell_type": "code",
   "execution_count": 68,
   "metadata": {
    "collapsed": false,
    "deletable": true,
    "editable": true
   },
   "outputs": [],
   "source": [
    "batch_size, max_len = 64, 256\n",
    "steps_ahead = 10\n",
    "\n",
    "model = Sequential()\n",
    "model.add(LSTM(16, batch_input_shape=(batch_size, max_len, Xshape[1]-1), return_sequences=True,\n",
    "               #dropout=0.2, recurrent_dropout=0.3)\n",
    "         ))\n",
    "model.add(TimeDistributed(Dense(16, activation='relu')))\n",
    "model.add(TimeDistributed(Dense(Xshape[1]-1, activation='linear')))\n",
    "# optimizer = keras.optimizers.Adam()\n",
    "model.compile(loss='mean_squared_error', optimizer='rmsprop', metrics=['mse'])"
   ]
  },
  {
   "cell_type": "code",
   "execution_count": 12,
   "metadata": {
    "collapsed": false,
    "deletable": true,
    "editable": true
   },
   "outputs": [],
   "source": [
    "files = ['/mnt/kaspersky/data_kasp/train/'+f for f in data.SeriesId][:]\n",
    "files_read = [ pd.read_csv(f, header=None) for f in files]"
   ]
  },
  {
   "cell_type": "code",
   "execution_count": 67,
   "metadata": {
    "collapsed": false,
    "deletable": true,
    "editable": true
   },
   "outputs": [],
   "source": [
    "def batch_generator(kind, max_len=max_len, batch_size=batch_size, steps_ahead=steps_ahead):\n",
    "    assert steps_ahead >= 1\n",
    "    \n",
    "    if kind == 'train': data = files_read[itr[np.random.randint(0,len(itr))]].loc[:, 1:]\n",
    "    elif kind =='test': data = files_read[ite[np.random.randint(0,len(ite))]].loc[:, 1:]\n",
    "    else: ValueError\n",
    "        \n",
    "    scaler = MinMaxScaler().fit(data)\n",
    "    \n",
    "    for i in range(int(len(data)/batch_size/max_len)):\n",
    "        \n",
    "        if i % 100 == 0:\n",
    "            ids = np.arange(len(data) - max_len - steps_ahead - 1)\n",
    "            np.random.shuffle(ids)\n",
    "            ids = ids[:batch_size]\n",
    "            if i > 0: raise StopIteration\n",
    "        \n",
    "        X = np.stack([scaler.transform(data.values[i:i+max_len, :]) for i in ids])\n",
    "        y = np.stack([scaler.transform(data.values[i+steps_ahead:i+max_len+steps_ahead, :]) for i in ids])\n",
    "        \n",
    "        ids = (ids + max_len) % (len(data) - max_len - steps_ahead - 1)\n",
    "        #model.reset_states()\n",
    "        \n",
    "        yield X, y\n",
    "    \n",
    "    raise StopIteration"
   ]
  },
  {
   "cell_type": "code",
   "execution_count": 21,
   "metadata": {
    "collapsed": false,
    "deletable": true,
    "editable": true
   },
   "outputs": [],
   "source": [
    "files = ['/mnt/kaspersky/data_kasp/train/'+f for f in data.SeriesId][:]\n",
    "\n",
    "y = data\n",
    "skf = StratifiedKFold(5, shuffle=True, random_state=0)\n",
    "for itr, ite in skf.split(y[y['train'] == 1]['SeriesId'].values, y[y['train'] == 1]['Attack'].values): break"
   ]
  },
  {
   "cell_type": "code",
   "execution_count": 32,
   "metadata": {
    "collapsed": false,
    "deletable": true,
    "editable": true
   },
   "outputs": [],
   "source": [
    "files_train = [files[i] for i in itr]\n",
    "files_test = [files[i] for i in ite]"
   ]
  },
  {
   "cell_type": "code",
   "execution_count": 71,
   "metadata": {
    "collapsed": true,
    "deletable": true,
    "editable": true
   },
   "outputs": [],
   "source": [
    "# графопостроитель ошибок\n",
    "def plot_losses(d, alpha=0.1):\n",
    "    clear_output()\n",
    "    plt.figure(figsize=(15,6))\n",
    "    \n",
    "    for loss, name in d:\n",
    "        pd.DataFrame(loss)[0].ewm(alpha=alpha).mean().plot(label=name)\n",
    "    plt.yscale('log')\n",
    "    \n",
    "    plt.legend()\n",
    "    plt.show()"
   ]
  },
  {
   "cell_type": "code",
   "execution_count": null,
   "metadata": {
    "collapsed": true,
    "deletable": true,
    "editable": true
   },
   "outputs": [],
   "source": [
    "nb_epoch = 500\n",
    "i = 0\n",
    "delimeters = []\n",
    "train_losses = []\n",
    "test_losses, test_losses2 = [], []\n",
    "for n in range(len(delimeters), nb_epoch):\n",
    "    test_gen = batch_generator('test', max_len, batch_size)\n",
    "    train_gen = batch_generator('train', max_len, batch_size)\n",
    "    \n",
    "    for batch_train, batch_y in train_gen:\n",
    "        i += 1\n",
    "        loss = model.train_on_batch(batch_train, batch_y)\n",
    "        if (i % 10 == 0):\n",
    "            \n",
    "            train_losses.append(loss)\n",
    "            \n",
    "            batch_test, batch_test_y = next(iter(test_gen))\n",
    "            loss = model.test_on_batch(batch_test, batch_test_y)\n",
    "            test_losses.append(loss)\n",
    "            \n",
    "            if i % 10 == 0:\n",
    "                plot_losses([(train_losses, 'train'), (test_losses, 'test')], 0.03)\n",
    "                \n",
    "    delimeters += [(len(train_losses), len(test_losses))]"
   ]
  },
  {
   "cell_type": "code",
   "execution_count": 40,
   "metadata": {
    "collapsed": false,
    "deletable": true,
    "editable": true
   },
   "outputs": [
    {
     "data": {
      "text/plain": [
       "((64, 256, 55), (64, 256, 55))"
      ]
     },
     "execution_count": 40,
     "metadata": {},
     "output_type": "execute_result"
    }
   ],
   "source": [
    "batch_train.shape, batch_y.shape"
   ]
  },
  {
   "cell_type": "code",
   "execution_count": null,
   "metadata": {
    "collapsed": false,
    "deletable": true,
    "editable": true
   },
   "outputs": [],
   "source": []
  },
  {
   "cell_type": "code",
   "execution_count": null,
   "metadata": {
    "collapsed": false,
    "deletable": true,
    "editable": true
   },
   "outputs": [],
   "source": []
  },
  {
   "cell_type": "code",
   "execution_count": null,
   "metadata": {
    "collapsed": true,
    "deletable": true,
    "editable": true
   },
   "outputs": [],
   "source": []
  },
  {
   "cell_type": "code",
   "execution_count": null,
   "metadata": {
    "collapsed": true,
    "deletable": true,
    "editable": true
   },
   "outputs": [],
   "source": []
  }
 ],
 "metadata": {
  "kernelspec": {
   "display_name": "Python [default]",
   "language": "python",
   "name": "python2"
  },
  "language_info": {
   "codemirror_mode": {
    "name": "ipython",
    "version": 2
   },
   "file_extension": ".py",
   "mimetype": "text/x-python",
   "name": "python",
   "nbconvert_exporter": "python",
   "pygments_lexer": "ipython2",
   "version": "2.7.13"
  }
 },
 "nbformat": 4,
 "nbformat_minor": 2
}
