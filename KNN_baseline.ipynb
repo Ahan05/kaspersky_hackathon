{
 "cells": [
  {
   "cell_type": "code",
   "execution_count": 2,
   "metadata": {
    "collapsed": false,
    "deletable": true,
    "editable": true
   },
   "outputs": [],
   "source": [
    "import numpy as np\n",
    "import pandas as pd\n",
    "import matplotlib.pyplot as plt\n",
    "import seaborn as sns\n",
    "%matplotlib inline\n",
    "\n",
    "import os\n",
    "os.environ['CUDA_VISIBLE_DEVICES'] = \"3\"\n",
    "\n",
    "import keras\n",
    "from keras.models import Sequential\n",
    "from keras.layers import LSTM, Dense, Dropout, TimeDistributed\n",
    "from keras.layers.normalization import BatchNormalization\n",
    "from tqdm import tqdm_notebook, tqdm\n",
    "from IPython.display import clear_output, display\n",
    "from keras import backend as K\n",
    "\n",
    "from sklearn.pipeline import Pipeline\n",
    "from sklearn.linear_model import LinearRegression\n",
    "from sklearn.cross_validation import cross_val_score, train_test_split\n",
    "from sklearn.feature_extraction.text import TfidfVectorizer\n",
    "from sklearn.preprocessing import StandardScaler, RobustScaler, Normalizer\n",
    "from sklearn import manifold, decomposition, linear_model, ensemble, neighbors, cross_validation\n",
    "from sklearn.ensemble import ExtraTreesClassifier, RandomForestClassifier\n",
    "from sklearn.neighbors import KNeighborsClassifier\n",
    "\n",
    "from scipy import stats\n",
    "from scipy.stats.mstats import gmean\n",
    "from glob import glob\n",
    "from multiprocessing import Pool\n",
    "from sklearn.metrics import roc_auc_score as auc\n",
    "from sklearn.model_selection import StratifiedKFold\n",
    "import xgboost"
   ]
  },
  {
   "cell_type": "markdown",
   "metadata": {
    "deletable": true,
    "editable": true
   },
   "source": [
    "# Read data"
   ]
  },
  {
   "cell_type": "code",
   "execution_count": 3,
   "metadata": {
    "collapsed": true,
    "deletable": true,
    "editable": true
   },
   "outputs": [],
   "source": [
    "data = pd.read_csv('./train_labels.csv')\n",
    "data['train'] = 1"
   ]
  },
  {
   "cell_type": "code",
   "execution_count": 4,
   "metadata": {
    "collapsed": false,
    "deletable": true,
    "editable": true
   },
   "outputs": [
    {
     "name": "stdout",
     "output_type": "stream",
     "text": [
      "(500, 550)\n",
      "CPU times: user 284 ms, sys: 92 ms, total: 376 ms\n",
      "Wall time: 1min 17s\n"
     ]
    }
   ],
   "source": [
    "%%time\n",
    "functions = [np.max, np.min, np.std, np.mean, np.median, \n",
    "#              lambda x, axis: np.percentile(x, 95, axis=0),  lambda x, axis: np.percentile(x, 75, axis=0),  \n",
    "#              lambda x, axis: np.percentile(x, 25, axis=0),  lambda x, axis: np.percentile(x, 5, axis=0),\n",
    "#              lambda x, axis: x.values.argmax(axis=0),  lambda x, axis: x.values.argmin(axis=0), \n",
    "#             get_percentile_features\n",
    "            ]\n",
    "\n",
    "def calc_feats(filename):\n",
    "    #data = np.load(filename)\n",
    "    data = pd.read_csv(filename, header=None).drop([0], axis=1)\n",
    "    v = []\n",
    "    for func in functions:\n",
    "        v.extend(list(func(data, axis=0)))\n",
    "    derivatives = (data - data.drop(0).reset_index().drop(\"index\", axis=1)).dropna()\n",
    "    for func in functions:\n",
    "        v.extend(list(func(derivatives, axis=0)))\n",
    "    return v\n",
    "\n",
    "files = ['/mnt/kaspersky/data_kasp/train/'+f for f in data.SeriesId][:]\n",
    "\n",
    "pool = Pool(16)\n",
    "X = None\n",
    "try: X = pd.DataFrame(pool.map(calc_feats, files))\n",
    "except ValueError as error: print(error)\n",
    "pool.terminate()\n",
    "X.fillna(-999, inplace=True)\n",
    "y = data.copy()[:len(X)]\n",
    "print X.shape"
   ]
  },
  {
   "cell_type": "code",
   "execution_count": 5,
   "metadata": {
    "collapsed": true,
    "deletable": true,
    "editable": true
   },
   "outputs": [],
   "source": [
    "x_copy = X.copy()"
   ]
  },
  {
   "cell_type": "code",
   "execution_count": 13,
   "metadata": {
    "collapsed": false,
    "deletable": true,
    "editable": true
   },
   "outputs": [],
   "source": [
    "scaler = StandardScaler()\n",
    "X = scaler.fit_transform(x_copy)"
   ]
  },
  {
   "cell_type": "markdown",
   "metadata": {
    "deletable": true,
    "editable": true
   },
   "source": [
    "# KNN"
   ]
  },
  {
   "cell_type": "code",
   "execution_count": 7,
   "metadata": {
    "collapsed": false,
    "deletable": true,
    "editable": true
   },
   "outputs": [
    {
     "name": "stdout",
     "output_type": "stream",
     "text": [
      "KNN: 0.898 +- 0.022\n"
     ]
    }
   ],
   "source": [
    "skf = StratifiedKFold(5, shuffle=True, random_state=0)\n",
    "sc,sc2,sc_mean = [],[],[]\n",
    "pred_train1 = np.zeros(len(y))\n",
    "pred_train2 = np.zeros(len(y))\n",
    "\n",
    "knns = []\n",
    "\n",
    "for itr, ite in skf.split(y[y['train'] == 1]['SeriesId'].values, y[y['train'] == 1]['Attack'].values):\n",
    "\n",
    "    ypred,ypred2 = [],[]\n",
    "    for i in range(1):\n",
    "        \n",
    "        # knn\n",
    "        clf = KNeighborsClassifier(n_neighbors=400, weights='distance', n_jobs=20, p=20)\n",
    "        clf.fit(X[itr],y.iloc[itr]['Attack'])\n",
    "        ypred.append(clf.predict_proba(X[ite])[:,1])\n",
    "        knns.append(clf)\n",
    "        \n",
    "    ypred = sum(ypred) / len(ypred)\n",
    "    pred_train1[ite] = ypred\n",
    "    \n",
    "    sc.append(auc(y.iloc[ite]['Attack'].values, ypred))\n",
    "#     break\n",
    "\n",
    "print('KNN: {:.3f} +- {:.3f}'.format(np.mean(sc), np.std(sc)))"
   ]
  },
  {
   "cell_type": "code",
   "execution_count": 8,
   "metadata": {
    "collapsed": false,
    "deletable": true,
    "editable": true
   },
   "outputs": [
    {
     "data": {
      "text/plain": [
       "0.95797511797511803"
      ]
     },
     "execution_count": 8,
     "metadata": {},
     "output_type": "execute_result"
    }
   ],
   "source": [
    "xgbpred = pd.read_csv('submissions/xgb_out_of_fold.csv').values.ravel()\n",
    "extpred = pd.read_csv('submissions/et_out_of_fold.csv').values.ravel()\n",
    "# w = 0.5\n",
    "auc(y.Attack.values, (xgbpred + pred_train1 + extpred) * 1./3)"
   ]
  },
  {
   "cell_type": "code",
   "execution_count": null,
   "metadata": {
    "collapsed": true,
    "deletable": true,
    "editable": true
   },
   "outputs": [],
   "source": [
    "plt.plot(ypred)"
   ]
  },
  {
   "cell_type": "markdown",
   "metadata": {
    "collapsed": false,
    "deletable": true,
    "editable": true
   },
   "source": [
    "##### top score (yet)\n",
    "    XGB: 0.923 +- 0.021\n",
    "    ET: 0.938 +- 0.017\n",
    "    MEAN: 0.957 +- 0.009\n",
    "    KNN: 0.898 +- 0.022\n",
    "    BEST MIX: 0.95797511797511803"
   ]
  },
  {
   "cell_type": "markdown",
   "metadata": {
    "deletable": true,
    "editable": true
   },
   "source": [
    "# PLOTTING"
   ]
  },
  {
   "cell_type": "code",
   "execution_count": 106,
   "metadata": {
    "collapsed": true,
    "deletable": true,
    "editable": true
   },
   "outputs": [],
   "source": [
    "# fnames = [item for sublist in [[\"%d_max\" % i, \"%d_min\" % i, \"%d_std\" % i, \"%d_mean\" % i, \"%d_median\" % i, \n",
    "# #                                 \"%d_argmax\" % i, \"%d_argmin\"\n",
    "#                                ] for i in range(56)] for item in sublist]\n",
    "# fnames = fnames + [item + \"_der\" for item in fnames]\n",
    "# print (len(fnames))"
   ]
  },
  {
   "cell_type": "code",
   "execution_count": 104,
   "metadata": {
    "collapsed": false,
    "deletable": true,
    "editable": true,
    "scrolled": false
   },
   "outputs": [],
   "source": [
    "# ###### plot \n",
    "# import operator\n",
    "# importance = xgbs[0].get_fscore()\n",
    "# importance = sorted(importance.items(), key=operator.itemgetter(1))\n",
    "\n",
    "# df = pd.DataFrame(importance, columns=['feature', 'fscore'])\n",
    "# df.feature = [fnames[int(item[1:])] for item in df.feature]\n",
    "# df['fscore'] = df['fscore'] / df['fscore'].sum()\n",
    "# df = df.loc[:50]\n",
    "# plt.figure()\n",
    "# df.plot(kind='barh', x='feature', y='fscore', legend=False, figsize=(13,30))\n",
    "# plt.title('XGBoost Feature Importance')\n",
    "# plt.xlabel('relative importance')\n",
    "# plt.show()"
   ]
  },
  {
   "cell_type": "code",
   "execution_count": null,
   "metadata": {
    "collapsed": true,
    "deletable": true,
    "editable": true
   },
   "outputs": [],
   "source": [
    "# plt.figure(figsize=(40,40))\n",
    "# sns.heatmap(X.corr())"
   ]
  },
  {
   "cell_type": "code",
   "execution_count": null,
   "metadata": {
    "collapsed": false,
    "deletable": true,
    "editable": true
   },
   "outputs": [],
   "source": [
    "# sns.regplot(pred_train1, pred_train2)"
   ]
  },
  {
   "cell_type": "markdown",
   "metadata": {
    "collapsed": false,
    "deletable": true,
    "editable": true
   },
   "source": [
    "# XGB PREDICT"
   ]
  },
  {
   "cell_type": "code",
   "execution_count": 155,
   "metadata": {
    "collapsed": true,
    "deletable": true,
    "editable": true
   },
   "outputs": [],
   "source": [
    "# predictions name\n",
    "# pred_name = \"\""
   ]
  },
  {
   "cell_type": "code",
   "execution_count": 9,
   "metadata": {
    "collapsed": true,
    "deletable": true,
    "editable": true
   },
   "outputs": [],
   "source": [
    "subm = pd.read_csv('./sample_submission.csv')"
   ]
  },
  {
   "cell_type": "code",
   "execution_count": 10,
   "metadata": {
    "collapsed": false,
    "deletable": true,
    "editable": true
   },
   "outputs": [
    {
     "name": "stdout",
     "output_type": "stream",
     "text": [
      "(500, 550)\n",
      "CPU times: user 292 ms, sys: 104 ms, total: 396 ms\n",
      "Wall time: 1min 19s\n"
     ]
    }
   ],
   "source": [
    "%%time\n",
    "files = ['/mnt/kaspersky/data_kasp/test/'+f for f in subm.SeriesId][:]\n",
    "\n",
    "pool = Pool(16)\n",
    "X_test = None\n",
    "try: X_test = pd.DataFrame(pool.map(calc_feats, files))\n",
    "except ValueError as error: print(error)\n",
    "pool.terminate()\n",
    "X_test.fillna(-999, inplace=True)\n",
    "y_test = subm.copy()[:len(X_test)]\n",
    "print X_test.shape"
   ]
  },
  {
   "cell_type": "code",
   "execution_count": 11,
   "metadata": {
    "collapsed": true,
    "deletable": true,
    "editable": true
   },
   "outputs": [],
   "source": [
    "x_test_copy = X_test.copy()"
   ]
  },
  {
   "cell_type": "markdown",
   "metadata": {
    "deletable": true,
    "editable": true
   },
   "source": [
    "# KNN"
   ]
  },
  {
   "cell_type": "code",
   "execution_count": 14,
   "metadata": {
    "collapsed": false,
    "deletable": true,
    "editable": true
   },
   "outputs": [],
   "source": [
    "X_test = scaler.transform(x_test_copy)"
   ]
  },
  {
   "cell_type": "code",
   "execution_count": 15,
   "metadata": {
    "collapsed": false,
    "deletable": true,
    "editable": true
   },
   "outputs": [],
   "source": [
    "preds_et = []\n",
    "for model in knns:\n",
    "    preds_et.append(model.predict_proba(X_test))\n",
    "mean_preds_et = sum(preds_et) / len(preds_et)\n",
    "mean_preds_et = mean_preds_et[:, 1]"
   ]
  },
  {
   "cell_type": "code",
   "execution_count": 18,
   "metadata": {
    "collapsed": false,
    "deletable": true,
    "editable": true
   },
   "outputs": [],
   "source": [
    "subm.Attack = mean_preds_et\n",
    "subm.Attack = subm.Attack.map(lambda x: np.round(x, 3))\n",
    "subm.to_csv(\"./submissions/knn_best.csv\", index=False)"
   ]
  },
  {
   "cell_type": "markdown",
   "metadata": {
    "deletable": true,
    "editable": true
   },
   "source": [
    "# knn with et xgb"
   ]
  },
  {
   "cell_type": "code",
   "execution_count": 45,
   "metadata": {
    "collapsed": true,
    "deletable": true,
    "editable": true
   },
   "outputs": [],
   "source": [
    "knn_preds = pd.read_csv(\"./submissions/knn_best.csv\").Attack\n",
    "xgb_preds = pd.read_csv(\"./submissions/xgb_best_4_knn.csv\").Attack\n",
    "et_preds = pd.read_csv(\"./submissions/et_window_250_lstm.csv\").Attack"
   ]
  },
  {
   "cell_type": "code",
   "execution_count": 46,
   "metadata": {
    "collapsed": false,
    "deletable": true,
    "editable": true
   },
   "outputs": [
    {
     "data": {
      "text/html": [
       "<div>\n",
       "<table border=\"1\" class=\"dataframe\">\n",
       "  <thead>\n",
       "    <tr style=\"text-align: right;\">\n",
       "      <th></th>\n",
       "      <th>0</th>\n",
       "      <th>1</th>\n",
       "      <th>2</th>\n",
       "      <th>3</th>\n",
       "    </tr>\n",
       "  </thead>\n",
       "  <tbody>\n",
       "    <tr>\n",
       "      <th>0</th>\n",
       "      <td>0.370</td>\n",
       "      <td>0.856</td>\n",
       "      <td>0.628</td>\n",
       "      <td>0.618000</td>\n",
       "    </tr>\n",
       "    <tr>\n",
       "      <th>1</th>\n",
       "      <td>0.239</td>\n",
       "      <td>0.055</td>\n",
       "      <td>0.001</td>\n",
       "      <td>0.098333</td>\n",
       "    </tr>\n",
       "    <tr>\n",
       "      <th>2</th>\n",
       "      <td>0.247</td>\n",
       "      <td>0.007</td>\n",
       "      <td>0.003</td>\n",
       "      <td>0.085667</td>\n",
       "    </tr>\n",
       "    <tr>\n",
       "      <th>3</th>\n",
       "      <td>0.051</td>\n",
       "      <td>0.126</td>\n",
       "      <td>0.180</td>\n",
       "      <td>0.119000</td>\n",
       "    </tr>\n",
       "    <tr>\n",
       "      <th>4</th>\n",
       "      <td>0.054</td>\n",
       "      <td>0.277</td>\n",
       "      <td>0.205</td>\n",
       "      <td>0.178667</td>\n",
       "    </tr>\n",
       "    <tr>\n",
       "      <th>5</th>\n",
       "      <td>0.263</td>\n",
       "      <td>0.783</td>\n",
       "      <td>0.810</td>\n",
       "      <td>0.618667</td>\n",
       "    </tr>\n",
       "    <tr>\n",
       "      <th>6</th>\n",
       "      <td>0.263</td>\n",
       "      <td>0.248</td>\n",
       "      <td>0.358</td>\n",
       "      <td>0.289667</td>\n",
       "    </tr>\n",
       "    <tr>\n",
       "      <th>7</th>\n",
       "      <td>0.179</td>\n",
       "      <td>0.031</td>\n",
       "      <td>0.002</td>\n",
       "      <td>0.070667</td>\n",
       "    </tr>\n",
       "    <tr>\n",
       "      <th>8</th>\n",
       "      <td>0.295</td>\n",
       "      <td>0.000</td>\n",
       "      <td>0.002</td>\n",
       "      <td>0.099000</td>\n",
       "    </tr>\n",
       "    <tr>\n",
       "      <th>9</th>\n",
       "      <td>0.371</td>\n",
       "      <td>1.000</td>\n",
       "      <td>0.857</td>\n",
       "      <td>0.742667</td>\n",
       "    </tr>\n",
       "  </tbody>\n",
       "</table>\n",
       "</div>"
      ],
      "text/plain": [
       "       0      1      2         3\n",
       "0  0.370  0.856  0.628  0.618000\n",
       "1  0.239  0.055  0.001  0.098333\n",
       "2  0.247  0.007  0.003  0.085667\n",
       "3  0.051  0.126  0.180  0.119000\n",
       "4  0.054  0.277  0.205  0.178667\n",
       "5  0.263  0.783  0.810  0.618667\n",
       "6  0.263  0.248  0.358  0.289667\n",
       "7  0.179  0.031  0.002  0.070667\n",
       "8  0.295  0.000  0.002  0.099000\n",
       "9  0.371  1.000  0.857  0.742667"
      ]
     },
     "execution_count": 46,
     "metadata": {},
     "output_type": "execute_result"
    }
   ],
   "source": [
    "pd.DataFrame(list(zip(knn_preds[:10], xgb_preds[:10], et_preds[:10], ((knn_preds + et_preds + xgb_preds)* 1./ 3)[:10])))"
   ]
  },
  {
   "cell_type": "code",
   "execution_count": 33,
   "metadata": {
    "collapsed": true,
    "deletable": true,
    "editable": true
   },
   "outputs": [],
   "source": [
    "# subm.Attack = (knn_preds + et_preds + xgb_preds) * 1./3\n",
    "# subm.Attack = 1-subm.Attack.map(lambda x: np.round(x, 3))\n",
    "# subm.to_csv(\"./submissions/knn_xgb_et_2.csv\", index=False)"
   ]
  },
  {
   "cell_type": "markdown",
   "metadata": {
    "deletable": true,
    "editable": true
   },
   "source": [
    "\n",
    "# RANKS"
   ]
  },
  {
   "cell_type": "code",
   "execution_count": 47,
   "metadata": {
    "collapsed": true,
    "deletable": true,
    "editable": true
   },
   "outputs": [],
   "source": [
    "from scipy.stats import rankdata"
   ]
  },
  {
   "cell_type": "code",
   "execution_count": 48,
   "metadata": {
    "collapsed": false,
    "deletable": true,
    "editable": true
   },
   "outputs": [],
   "source": [
    "knn_ranks = rankdata(knn_preds)\n",
    "xgb_ranks = rankdata(xgb_preds)\n",
    "et_ranks = rankdata(et_preds)"
   ]
  },
  {
   "cell_type": "code",
   "execution_count": 49,
   "metadata": {
    "collapsed": false,
    "deletable": true,
    "editable": true,
    "scrolled": true
   },
   "outputs": [],
   "source": [
    "final_preds = (knn_ranks + xgb_ranks + et_ranks) / 1500"
   ]
  },
  {
   "cell_type": "code",
   "execution_count": 50,
   "metadata": {
    "collapsed": true,
    "deletable": true,
    "editable": true
   },
   "outputs": [],
   "source": [
    "subm.Attack = final_preds\n",
    "subm.Attack = subm.Attack.map(lambda x: np.round(x, 3))\n",
    "subm.to_csv(\"./submissions/knn_xgb_et_RANKS_FINAL_002.csv\", index=False)"
   ]
  },
  {
   "cell_type": "code",
   "execution_count": null,
   "metadata": {
    "collapsed": true,
    "deletable": true,
    "editable": true
   },
   "outputs": [],
   "source": []
  }
 ],
 "metadata": {
  "kernelspec": {
   "display_name": "Python [default]",
   "language": "python",
   "name": "python2"
  },
  "language_info": {
   "codemirror_mode": {
    "name": "ipython",
    "version": 2
   },
   "file_extension": ".py",
   "mimetype": "text/x-python",
   "name": "python",
   "nbconvert_exporter": "python",
   "pygments_lexer": "ipython2",
   "version": "2.7.13"
  }
 },
 "nbformat": 4,
 "nbformat_minor": 2
}
