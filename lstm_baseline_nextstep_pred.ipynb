{
 "cells": [
  {
   "cell_type": "code",
   "execution_count": 1,
   "metadata": {
    "collapsed": false,
    "deletable": true,
    "editable": true
   },
   "outputs": [
    {
     "name": "stderr",
     "output_type": "stream",
     "text": [
      "Using Theano backend.\n",
      "/home/billion/miniconda2/lib/python2.7/site-packages/sklearn/cross_validation.py:44: DeprecationWarning: This module was deprecated in version 0.18 in favor of the model_selection module into which all the refactored classes and functions are moved. Also note that the interface of the new CV iterators are different from that of this module. This module will be removed in 0.20.\n",
      "  \"This module will be removed in 0.20.\", DeprecationWarning)\n"
     ]
    }
   ],
   "source": [
    "import numpy as np\n",
    "import pandas as pd\n",
    "import matplotlib.pyplot as plt\n",
    "import seaborn as sns\n",
    "%matplotlib inline\n",
    "\n",
    "import keras\n",
    "from keras.models import Sequential\n",
    "from keras.layers import LSTM, Dense, Dropout, TimeDistributed\n",
    "from keras.layers.normalization import BatchNormalization\n",
    "from tqdm import tqdm_notebook, tqdm\n",
    "from IPython.display import clear_output, display\n",
    "from keras import backend as K\n",
    "\n",
    "from sklearn.pipeline import Pipeline\n",
    "from sklearn.linear_model import LinearRegression\n",
    "from sklearn.cross_validation import cross_val_score, train_test_split\n",
    "from sklearn.feature_extraction.text import TfidfVectorizer\n",
    "from sklearn.preprocessing import StandardScaler, RobustScaler, Normalizer, MinMaxScaler\n",
    "from sklearn import manifold, decomposition, linear_model, ensemble, neighbors, cross_validation\n",
    "from sklearn.ensemble import ExtraTreesClassifier, RandomForestClassifier\n",
    "\n",
    "from scipy import stats\n",
    "from glob import glob\n",
    "from multiprocessing import Pool\n",
    "from sklearn.metrics import roc_auc_score as auc\n",
    "from sklearn.model_selection import StratifiedKFold\n",
    "import xgboost"
   ]
  },
  {
   "cell_type": "code",
   "execution_count": null,
   "metadata": {
    "collapsed": false,
    "deletable": true,
    "editable": true
   },
   "outputs": [],
   "source": []
  },
  {
   "cell_type": "code",
   "execution_count": 3,
   "metadata": {
    "collapsed": false,
    "deletable": true,
    "editable": true,
    "scrolled": false
   },
   "outputs": [
    {
     "data": {
      "text/plain": [
       "(96000, 56)"
      ]
     },
     "execution_count": 3,
     "metadata": {},
     "output_type": "execute_result"
    }
   ],
   "source": [
    "Xshape = pd.read_csv('/mnt/kaspersky/data_kasp/train/0_train.csv', header=None).shape\n",
    "Xshape"
   ]
  },
  {
   "cell_type": "code",
   "execution_count": 4,
   "metadata": {
    "collapsed": true,
    "deletable": true,
    "editable": true
   },
   "outputs": [],
   "source": [
    "steps_ahead = 10\n",
    "batch_size, max_len = 1, Xshape[0]\n",
    "\n",
    "model = Sequential()\n",
    "model.add(LSTM(16, batch_input_shape=(batch_size, max_len, Xshape[1]-1), return_sequences=True,\n",
    "         ))\n",
    "model.add(TimeDistributed(Dense(16, activation='relu')))\n",
    "model.add(TimeDistributed(Dense(Xshape[1]-1, activation='linear')))\n",
    "model.compile(loss='mean_squared_error', optimizer='rmsprop', metrics=['mse'])"
   ]
  },
  {
   "cell_type": "code",
   "execution_count": 5,
   "metadata": {
    "collapsed": false
   },
   "outputs": [],
   "source": [
    "w = keras.models.load_model('tmp/lstm1').weights\n",
    "w = [i.get_value() for i in w]\n",
    "\n",
    "model.set_weights(w)"
   ]
  },
  {
   "cell_type": "code",
   "execution_count": null,
   "metadata": {
    "collapsed": true
   },
   "outputs": [],
   "source": [
    "for name, data in ('train', pd.read_csv('train_labels.csv')), ('test', pd.read_csv('sample_submission.csv')):\n",
    "    files = ['/mnt/kaspersky/data_kasp/'+name+'/'+f for f in data.SeriesId][::1]\n",
    "\n",
    "    for f in tqdm(files):\n",
    "        tmp = pd.read_csv(f, header=None).iloc[:,1:]\n",
    "        tmp = MinMaxScaler().fit_transform(tmp)\n",
    "        pr = model.predict(tmp[None,:,:])[0]\n",
    "\n",
    "        functions = [np.min, np.max, np.mean, np.std]\n",
    "        fts = np.stack([func((pr[:-10,:] - tmp[10:,:]) ** 2, axis=0) for func in functions]).ravel()\n",
    "        np.save('tmp/lstmfeats/'+f.split('.')[0].split('/')[-1]+'.npy', fts)"
   ]
  },
  {
   "cell_type": "code",
   "execution_count": null,
   "metadata": {
    "collapsed": false,
    "deletable": true,
    "editable": true
   },
   "outputs": [],
   "source": []
  },
  {
   "cell_type": "code",
   "execution_count": null,
   "metadata": {
    "collapsed": true,
    "deletable": true,
    "editable": true
   },
   "outputs": [],
   "source": []
  },
  {
   "cell_type": "code",
   "execution_count": null,
   "metadata": {
    "collapsed": true,
    "deletable": true,
    "editable": true
   },
   "outputs": [],
   "source": []
  }
 ],
 "metadata": {
  "kernelspec": {
   "display_name": "Python [default]",
   "language": "python",
   "name": "python2"
  },
  "language_info": {
   "codemirror_mode": {
    "name": "ipython",
    "version": 2
   },
   "file_extension": ".py",
   "mimetype": "text/x-python",
   "name": "python",
   "nbconvert_exporter": "python",
   "pygments_lexer": "ipython2",
   "version": "2.7.13"
  }
 },
 "nbformat": 4,
 "nbformat_minor": 2
}
