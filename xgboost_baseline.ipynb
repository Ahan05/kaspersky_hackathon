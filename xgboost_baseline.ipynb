{
 "cells": [
  {
   "cell_type": "code",
   "execution_count": 90,
   "metadata": {
    "collapsed": false,
    "deletable": true,
    "editable": true
   },
   "outputs": [],
   "source": [
    "import numpy as np\n",
    "import pandas as pd\n",
    "import matplotlib.pyplot as plt\n",
    "import seaborn as sns\n",
    "%matplotlib inline\n",
    "\n",
    "import os\n",
    "os.environ['CUDA_VISIBLE_DEVICES'] = \"3\"\n",
    "\n",
    "import keras\n",
    "from keras.models import Sequential\n",
    "from keras.layers import LSTM, Dense, Dropout, TimeDistributed\n",
    "from keras.layers.normalization import BatchNormalization\n",
    "from tqdm import tqdm_notebook, tqdm\n",
    "from IPython.display import clear_output, display\n",
    "from keras import backend as K\n",
    "\n",
    "from sklearn.pipeline import Pipeline\n",
    "from sklearn.linear_model import LinearRegression\n",
    "from sklearn.cross_validation import cross_val_score, train_test_split\n",
    "from sklearn.feature_extraction.text import TfidfVectorizer\n",
    "from sklearn.preprocessing import StandardScaler, RobustScaler, Normalizer\n",
    "from sklearn import manifold, decomposition, linear_model, ensemble, neighbors, cross_validation\n",
    "from sklearn.ensemble import ExtraTreesClassifier, RandomForestClassifier\n",
    "\n",
    "from scipy import stats\n",
    "from scipy.stats.mstats import gmean\n",
    "from glob import glob\n",
    "from multiprocessing import Pool\n",
    "from sklearn.metrics import roc_auc_score as auc\n",
    "from sklearn.model_selection import StratifiedKFold\n",
    "import xgboost"
   ]
  },
  {
   "cell_type": "markdown",
   "metadata": {
    "deletable": true,
    "editable": true
   },
   "source": [
    "# Read data"
   ]
  },
  {
   "cell_type": "code",
   "execution_count": 211,
   "metadata": {
    "collapsed": true,
    "deletable": true,
    "editable": true
   },
   "outputs": [],
   "source": [
    "data = pd.read_csv('./train_labels.csv')\n",
    "data['train'] = 1"
   ]
  },
  {
   "cell_type": "code",
   "execution_count": 114,
   "metadata": {
    "collapsed": true
   },
   "outputs": [],
   "source": [
    "def get_percentile_features(data, axis=0):\n",
    "    top_value = np.percentile(data, 10, axis=0)\n",
    "    data_slice = data[data >= top_value]\n",
    "    return list(np.std(data_slice, axis=0))"
   ]
  },
  {
   "cell_type": "code",
   "execution_count": 214,
   "metadata": {
    "collapsed": false,
    "deletable": true,
    "editable": true,
    "scrolled": true
   },
   "outputs": [
    {
     "name": "stdout",
     "output_type": "stream",
     "text": [
      "(500, 550)\n",
      "CPU times: user 424 ms, sys: 476 ms, total: 900 ms\n",
      "Wall time: 1min 35s\n"
     ]
    }
   ],
   "source": [
    "%%time\n",
    "functions = [np.max, np.min, np.std, np.mean, np.median, \n",
    "#              lambda x, axis: np.percentile(x, 95, axis=0),  lambda x, axis: np.percentile(x, 5, axis=0),  \n",
    "#              lambda x, axis: np.percentile(x, 25, axis=0),  lambda x, axis: np.percentile(x, 75, axis=0),\n",
    "#              lambda x, axis: x.values.argmax(axis=0),  lambda x, axis: x.values.argmin(axis=0), \n",
    "#             get_percentile_features\n",
    "            ]\n",
    "\n",
    "def calc_feats(filename):\n",
    "    #data = np.load(filename)\n",
    "    data = pd.read_csv(filename, header=None).drop([0], axis=1)\n",
    "    v = []\n",
    "    for func in functions:\n",
    "        v.extend(list(func(data, axis=0)))\n",
    "    \n",
    "    derivatives = (data - data.drop(0).reset_index().drop(\"index\", axis=1)).dropna()\n",
    "    for func in functions:\n",
    "        v.extend(list(func(derivatives, axis=0)))\n",
    "\n",
    "#     data = data - data.ewm(alpha=0.1).mean().shift() \n",
    "#     for func in functions:\n",
    "#         v.extend(list(func(data, axis=0)))\n",
    "    return v\n",
    "\n",
    "files = ['/mnt/kaspersky/data_kasp/train/'+f for f in data.SeriesId][:]\n",
    "\n",
    "pool = Pool(16)\n",
    "X = None\n",
    "try: X = pd.DataFrame(pool.map(calc_feats, files))\n",
    "except ValueError as error: print(error)\n",
    "pool.terminate()\n",
    "X.fillna(-999, inplace=True)\n",
    "y = data.copy()[:len(X)]\n",
    "print X.shape"
   ]
  },
  {
   "cell_type": "markdown",
   "metadata": {
    "collapsed": true,
    "deletable": true,
    "editable": true
   },
   "source": [
    "# XGB"
   ]
  },
  {
   "cell_type": "code",
   "execution_count": 213,
   "metadata": {
    "collapsed": false,
    "deletable": true,
    "editable": true,
    "scrolled": false
   },
   "outputs": [
    {
     "name": "stdout",
     "output_type": "stream",
     "text": [
      "[0]\ttrain-auc:0.833119\teval-auc:0.657229\n",
      "Multiple eval metrics have been passed: 'eval-auc' will be used for early stopping.\n",
      "\n",
      "Will train until eval-auc hasn't improved in 50 rounds.\n",
      "Stopping. Best iteration:\n",
      "[356]\ttrain-auc:0.97603\teval-auc:0.940369\n",
      "\n",
      "[0]\ttrain-auc:0.841431\teval-auc:0.78121\n",
      "Multiple eval metrics have been passed: 'eval-auc' will be used for early stopping.\n",
      "\n",
      "Will train until eval-auc hasn't improved in 50 rounds.\n",
      "Stopping. Best iteration:\n",
      "[89]\ttrain-auc:0.959352\teval-auc:0.885886\n",
      "\n",
      "[0]\ttrain-auc:0.837731\teval-auc:0.766624\n",
      "Multiple eval metrics have been passed: 'eval-auc' will be used for early stopping.\n",
      "\n",
      "Will train until eval-auc hasn't improved in 50 rounds.\n",
      "Stopping. Best iteration:\n",
      "[108]\ttrain-auc:0.96021\teval-auc:0.937795\n",
      "\n",
      "[0]\ttrain-auc:0.830009\teval-auc:0.763192\n",
      "Multiple eval metrics have been passed: 'eval-auc' will be used for early stopping.\n",
      "\n",
      "Will train until eval-auc hasn't improved in 50 rounds.\n",
      "Stopping. Best iteration:\n",
      "[223]\ttrain-auc:0.977102\teval-auc:0.930073\n",
      "\n",
      "[0]\ttrain-auc:0.861245\teval-auc:0.794938\n",
      "Multiple eval metrics have been passed: 'eval-auc' will be used for early stopping.\n",
      "\n",
      "Will train until eval-auc hasn't improved in 50 rounds.\n",
      "Stopping. Best iteration:\n",
      "[483]\ttrain-auc:0.98099\teval-auc:0.936508\n",
      "\n",
      "XGB: 0.921 +- 0.021\n",
      "ET: 0.938 +- 0.013\n",
      "MEAN: 0.958 +- 0.007\n"
     ]
    }
   ],
   "source": [
    "param = {}\n",
    "param['objective'] = 'binary:logistic'\n",
    "param['eval_metric'] = 'auc'\n",
    "param['max_depth'] = 7\n",
    "# param['booster'] = 'dart'\n",
    "param['booster'] = 'gblinear'\n",
    "param['eta'] = 0.01\n",
    "# param['subsample'] = 0.9\n",
    "# param[\"scale_pos_weight\"] = 0.5\n",
    "param['colsample_bytree'] = 0.1\n",
    "param['nthread'] = 8\n",
    "param['alpha'] = 0.00\n",
    "param['lambda_bias'] = 0.1\n",
    "# param['lambda'] = 0\n",
    "# param['min_child_weight'] = 5\n",
    "\n",
    "# if param['booster'] == 'gblinear': param['eta'] *= 1e-4\n",
    "numround = 15001\n",
    "# scores, , []\n",
    "\n",
    "skf = StratifiedKFold(5, shuffle=True, random_state=0)\n",
    "sc,sc2,sc_mean = [],[],[]\n",
    "pred_train1 = np.zeros(len(y))\n",
    "pred_train2 = np.zeros(len(y))\n",
    "\n",
    "xgbs = []\n",
    "ets = []\n",
    "\n",
    "for itr, ite in skf.split(y[y['train'] == 1]['SeriesId'].values, y[y['train'] == 1]['Attack'].values):\n",
    "\n",
    "    ypred,ypred2 = [],[]\n",
    "    for i in range(1):\n",
    "        param['seed'] = i+1\n",
    "\n",
    "        #xgboost\n",
    "        Xdatatrain = xgboost.DMatrix(data=X.iloc[itr].values,\n",
    "                                     label=y.iloc[itr]['Attack'].values)\n",
    "        Xdataval = xgboost.DMatrix(data=X.iloc[ite].values,\n",
    "                                    label=y.iloc[ite]['Attack'].values)\n",
    "\n",
    "        plst = list(param.items())\n",
    "        watchlist = [(Xdatatrain, 'train'), (Xdataval, 'eval')]\n",
    "        bst = xgboost.train(plst, Xdatatrain, 100000, evals=watchlist, verbose_eval=1000, \n",
    "                            early_stopping_rounds=int(5 / param['eta'] ** 0.5))\n",
    "\n",
    "        ypred.append(bst.predict(Xdataval))\n",
    "        xgbs.append(bst)\n",
    "        \n",
    "        # extra trees\n",
    "        clf = ExtraTreesClassifier(n_estimators=1000, n_jobs=16, criterion='entropy',\n",
    "                                  max_features=0.15, min_samples_split=5)\n",
    "        clf.fit(X.iloc[itr].values,y.iloc[itr]['Attack'].values)\n",
    "        ypred2.append(clf.predict_proba(X.iloc[ite].values)[:,1])\n",
    "        ets.append(clf)\n",
    "        \n",
    "    ypred = sum(ypred) / len(ypred)\n",
    "    ypred2 = sum(ypred2) / len(ypred2)\n",
    "    pred_train1[ite] = ypred\n",
    "    pred_train2[ite] = ypred2\n",
    "    \n",
    "    sc.append(auc(y.iloc[ite]['Attack'].values, ypred))\n",
    "    sc2.append(auc(y.iloc[ite]['Attack'].values, ypred2))\n",
    "    sc_mean.append(auc(y.iloc[ite]['Attack'].values, (ypred2 + ypred) / 2))\n",
    "#     break\n",
    "\n",
    "print('XGB: {:.3f} +- {:.3f}'.format(np.mean(sc), np.std(sc)))\n",
    "print('ET: {:.3f} +- {:.3f}'.format(np.mean(sc2), np.std(sc2)))\n",
    "print('MEAN: {:.3f} +- {:.3f}'.format(np.mean(sc_mean), np.std(sc_mean)))"
   ]
  },
  {
   "cell_type": "markdown",
   "metadata": {
    "collapsed": false,
    "deletable": true,
    "editable": true
   },
   "source": [
    "##### top score (yet)\n",
    "    XGB: 0.923 +- 0.021\n",
    "    ET: 0.938 +- 0.017\n",
    "    MEAN: 0.957 +- 0.009\n",
    "    \n",
    "    XGB: 0.921 +- 0.021\n",
    "    ET: 0.937 +- 0.017\n",
    "    MEAN: 0.948 +- 0.017"
   ]
  },
  {
   "cell_type": "markdown",
   "metadata": {},
   "source": [
    "# PLOTTING"
   ]
  },
  {
   "cell_type": "code",
   "execution_count": 106,
   "metadata": {
    "collapsed": true
   },
   "outputs": [],
   "source": [
    "# fnames = [item for sublist in [[\"%d_max\" % i, \"%d_min\" % i, \"%d_std\" % i, \"%d_mean\" % i, \"%d_median\" % i, \n",
    "# #                                 \"%d_argmax\" % i, \"%d_argmin\"\n",
    "#                                ] for i in range(56)] for item in sublist]\n",
    "# fnames = fnames + [item + \"_der\" for item in fnames]\n",
    "# print (len(fnames))"
   ]
  },
  {
   "cell_type": "code",
   "execution_count": 104,
   "metadata": {
    "collapsed": false,
    "scrolled": false
   },
   "outputs": [],
   "source": [
    "# ###### plot \n",
    "# import operator\n",
    "# importance = xgbs[0].get_fscore()\n",
    "# importance = sorted(importance.items(), key=operator.itemgetter(1))\n",
    "\n",
    "# df = pd.DataFrame(importance, columns=['feature', 'fscore'])\n",
    "# df.feature = [fnames[int(item[1:])] for item in df.feature]\n",
    "# df['fscore'] = df['fscore'] / df['fscore'].sum()\n",
    "# df = df.loc[:50]\n",
    "# plt.figure()\n",
    "# df.plot(kind='barh', x='feature', y='fscore', legend=False, figsize=(13,30))\n",
    "# plt.title('XGBoost Feature Importance')\n",
    "# plt.xlabel('relative importance')\n",
    "# plt.show()"
   ]
  },
  {
   "cell_type": "code",
   "execution_count": null,
   "metadata": {
    "collapsed": true
   },
   "outputs": [],
   "source": [
    "# plt.figure(figsize=(40,40))\n",
    "# sns.heatmap(X.corr())"
   ]
  },
  {
   "cell_type": "code",
   "execution_count": null,
   "metadata": {
    "collapsed": false,
    "deletable": true,
    "editable": true
   },
   "outputs": [],
   "source": [
    "# sns.regplot(pred_train1, pred_train2)"
   ]
  },
  {
   "cell_type": "markdown",
   "metadata": {
    "collapsed": false,
    "deletable": true,
    "editable": true
   },
   "source": [
    "# XGB PREDICT"
   ]
  },
  {
   "cell_type": "code",
   "execution_count": 155,
   "metadata": {
    "collapsed": true
   },
   "outputs": [],
   "source": [
    "# predictions name"
   ]
  },
  {
   "cell_type": "code",
   "execution_count": 203,
   "metadata": {
    "collapsed": true,
    "deletable": true,
    "editable": true
   },
   "outputs": [],
   "source": [
    "subm = pd.read_csv('./sample_submission.csv')"
   ]
  },
  {
   "cell_type": "code",
   "execution_count": 204,
   "metadata": {
    "collapsed": false
   },
   "outputs": [
    {
     "name": "stdout",
     "output_type": "stream",
     "text": [
      "(500, 770)\n",
      "CPU times: user 828 ms, sys: 384 ms, total: 1.21 s\n",
      "Wall time: 3min 32s\n"
     ]
    }
   ],
   "source": [
    "%%time\n",
    "files = ['/mnt/kaspersky/data_kasp/test/'+f for f in subm.SeriesId][:]\n",
    "\n",
    "pool = Pool(16)\n",
    "X_test = None\n",
    "try: X_test = pd.DataFrame(pool.map(calc_feats, files))\n",
    "except ValueError as error: print(error)\n",
    "pool.terminate()\n",
    "X_test.fillna(-999, inplace=True)\n",
    "y_test = subm.copy()[:len(X_test)]\n",
    "print X_test.shape\n",
    "X_test.columns = [\"f%d\" % item for item in X_test.columns]"
   ]
  },
  {
   "cell_type": "markdown",
   "metadata": {},
   "source": [
    "# XGB predictions"
   ]
  },
  {
   "cell_type": "code",
   "execution_count": 205,
   "metadata": {
    "collapsed": true
   },
   "outputs": [],
   "source": [
    "pred_name = \"best_4_knn_2\""
   ]
  },
  {
   "cell_type": "code",
   "execution_count": 206,
   "metadata": {
    "collapsed": false
   },
   "outputs": [],
   "source": [
    "Xdatatrain = xgboost.DMatrix(data=X_test)"
   ]
  },
  {
   "cell_type": "code",
   "execution_count": 207,
   "metadata": {
    "collapsed": false,
    "scrolled": false
   },
   "outputs": [],
   "source": [
    "preds = []\n",
    "for model in xgbs:\n",
    "    preds.append(model.predict(Xdatatrain))\n",
    "mean_preds = sum(preds) / len(preds)\n",
    "mean_preds = mean_preds"
   ]
  },
  {
   "cell_type": "code",
   "execution_count": 208,
   "metadata": {
    "collapsed": false
   },
   "outputs": [],
   "source": [
    "# !mkdir submissions\n",
    "subm.Attack = mean_preds\n",
    "subm.Attack = subm.Attack.map(lambda x: np.round(x, 3))\n",
    "subm.to_csv(\"./submissions/xgb_%s.csv\" % pred_name, index=False)"
   ]
  },
  {
   "cell_type": "markdown",
   "metadata": {},
   "source": [
    "# Extra trees predictions"
   ]
  },
  {
   "cell_type": "code",
   "execution_count": 209,
   "metadata": {
    "collapsed": false
   },
   "outputs": [],
   "source": [
    "preds_et = []\n",
    "for model in ets:\n",
    "    preds_et.append(model.predict_proba(X_test))\n",
    "mean_preds_et = sum(preds_et) / len(preds_et)\n",
    "# mean_preds_et = gmean(preds_et)\n",
    "mean_preds_et = mean_preds_et[:, 1]"
   ]
  },
  {
   "cell_type": "code",
   "execution_count": 210,
   "metadata": {
    "collapsed": false
   },
   "outputs": [],
   "source": [
    "subm.Attack = mean_preds_et\n",
    "subm.Attack = subm.Attack.map(lambda x: np.round(x, 3))\n",
    "subm.to_csv(\"./submissions/et_%s.csv\" % pred_name, index=False)"
   ]
  },
  {
   "cell_type": "code",
   "execution_count": null,
   "metadata": {
    "collapsed": true
   },
   "outputs": [],
   "source": []
  }
 ],
 "metadata": {
  "kernelspec": {
   "display_name": "Python [default]",
   "language": "python",
   "name": "python2"
  },
  "language_info": {
   "codemirror_mode": {
    "name": "ipython",
    "version": 2
   },
   "file_extension": ".py",
   "mimetype": "text/x-python",
   "name": "python",
   "nbconvert_exporter": "python",
   "pygments_lexer": "ipython2",
   "version": "2.7.13"
  }
 },
 "nbformat": 4,
 "nbformat_minor": 2
}
